{
 "cells": [
  {
   "cell_type": "markdown",
   "id": "b80ce253",
   "metadata": {},
   "source": []
  }
 ],
 "metadata": {
  "language_info": {
   "name": "python"
  }
 },
 "nbformat": 4,
 "nbformat_minor": 5
}

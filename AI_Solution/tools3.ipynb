{
 "cells": [
  {
   "cell_type": "markdown",
   "id": "6aece743",
   "metadata": {},
   "source": []
  }
 ],
 "metadata": {
  "language_info": {
   "name": "python"
  }
 },
 "nbformat": 4,
 "nbformat_minor": 5
}
